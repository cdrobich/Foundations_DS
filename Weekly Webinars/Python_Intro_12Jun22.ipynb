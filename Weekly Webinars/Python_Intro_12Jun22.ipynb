{
  "nbformat": 4,
  "nbformat_minor": 0,
  "metadata": {
    "colab": {
      "name": "Python Intro.ipynb",
      "provenance": [],
      "collapsed_sections": [],
      "toc_visible": true
    },
    "kernelspec": {
      "name": "python3",
      "display_name": "Python 3"
    },
    "language_info": {
      "name": "python"
    }
  },
  "cells": [
    {
      "cell_type": "markdown",
      "source": [
        "2022-6-12"
      ],
      "metadata": {
        "id": "q-H7B8nYOMiO"
      }
    },
    {
      "cell_type": "markdown",
      "source": [
        "# Why Python 3\n",
        "\n",
        "1. Python is easy to use\n",
        "\n",
        "2. There are many useful libraries\n",
        "\n",
        "3. Libraries like NumPy, Pandas, TensorFlow etc. are widely used in data science. \n",
        "\n",
        "4. OOP (object-oriented programming)"
      ],
      "metadata": {
        "id": "5XsOZR_HOxNH"
      }
    },
    {
      "cell_type": "markdown",
      "source": [
        "# Useful hotkeys in the notebook\n",
        "\n",
        "1. Commenting/uncommenting: CTRL+/ (or CMD+/) \n",
        "\n",
        "2. Indent: TAB\n",
        "\n",
        "3. Unindent: SHIFT+TAB\n",
        "\n",
        "4. Run the code: CTRL+ENTER, or SHIFT+ENTER"
      ],
      "metadata": {
        "id": "Q5cTOf4wi9ua"
      }
    },
    {
      "cell_type": "markdown",
      "source": [
        "# Variables"
      ],
      "metadata": {
        "id": "0hhR_9iTPi54"
      }
    },
    {
      "cell_type": "markdown",
      "source": [
        "## integer"
      ],
      "metadata": {
        "id": "BTARbTIgSbZj"
      }
    },
    {
      "cell_type": "code",
      "source": [
        "x = 6 #integer\n",
        "x"
      ],
      "metadata": {
        "colab": {
          "base_uri": "https://localhost:8080/"
        },
        "id": "xD-oTt0rPqnF",
        "outputId": "a7eed949-ca71-4fb0-af43-2235ab7d0163"
      },
      "execution_count": null,
      "outputs": [
        {
          "output_type": "execute_result",
          "data": {
            "text/plain": [
              "6"
            ]
          },
          "metadata": {},
          "execution_count": 151
        }
      ]
    },
    {
      "cell_type": "code",
      "execution_count": null,
      "metadata": {
        "colab": {
          "base_uri": "https://localhost:8080/"
        },
        "id": "TvUYhSJnOJ6B",
        "outputId": "1578d037-28ce-428f-eb75-ed79aaa0ff00"
      },
      "outputs": [
        {
          "output_type": "stream",
          "name": "stdout",
          "text": [
            "6\n"
          ]
        }
      ],
      "source": [
        "print(x)"
      ]
    },
    {
      "cell_type": "code",
      "source": [
        "type(x)"
      ],
      "metadata": {
        "colab": {
          "base_uri": "https://localhost:8080/"
        },
        "id": "A46HdQfNQEFr",
        "outputId": "fb061a12-fd45-4cb1-9721-382ab439fcaa"
      },
      "execution_count": null,
      "outputs": [
        {
          "output_type": "execute_result",
          "data": {
            "text/plain": [
              "int"
            ]
          },
          "metadata": {},
          "execution_count": 8
        }
      ]
    },
    {
      "cell_type": "markdown",
      "source": [
        "## float"
      ],
      "metadata": {
        "id": "dzNhOGa6ShLy"
      }
    },
    {
      "cell_type": "code",
      "source": [
        "x_2 = 3.14 #float\n",
        "x_2"
      ],
      "metadata": {
        "colab": {
          "base_uri": "https://localhost:8080/"
        },
        "id": "ynC00WgLQdKm",
        "outputId": "56b9eb46-50b9-4499-d4c7-ffe10e76053a"
      },
      "execution_count": null,
      "outputs": [
        {
          "output_type": "execute_result",
          "data": {
            "text/plain": [
              "3.14"
            ]
          },
          "metadata": {},
          "execution_count": 11
        }
      ]
    },
    {
      "cell_type": "code",
      "source": [
        "type(x_2) "
      ],
      "metadata": {
        "colab": {
          "base_uri": "https://localhost:8080/"
        },
        "id": "5SY3z3qKQnW9",
        "outputId": "7d1c50cc-c9ed-42bf-e981-282db84ec353"
      },
      "execution_count": null,
      "outputs": [
        {
          "output_type": "execute_result",
          "data": {
            "text/plain": [
              "float"
            ]
          },
          "metadata": {},
          "execution_count": 10
        }
      ]
    },
    {
      "cell_type": "code",
      "source": [
        "x_3 = 2.22\n",
        "print(type(x_3))\n",
        "x_3 = 4\n",
        "print(type(x_3))"
      ],
      "metadata": {
        "colab": {
          "base_uri": "https://localhost:8080/"
        },
        "id": "pwOaTzJPQ5rV",
        "outputId": "e9ca4229-e048-43fb-85fd-988ede0dd762"
      },
      "execution_count": null,
      "outputs": [
        {
          "output_type": "stream",
          "name": "stdout",
          "text": [
            "<class 'float'>\n",
            "<class 'int'>\n"
          ]
        }
      ]
    },
    {
      "cell_type": "markdown",
      "source": [
        "## string"
      ],
      "metadata": {
        "id": "t3ufVLsSSmaG"
      }
    },
    {
      "cell_type": "code",
      "source": [
        "s = \"Hello Python! 😎\" #string is text\n",
        "s"
      ],
      "metadata": {
        "colab": {
          "base_uri": "https://localhost:8080/",
          "height": 36
        },
        "id": "dyr9i8gOQ108",
        "outputId": "32e78d30-2976-4f13-f7fc-ff1789994e25"
      },
      "execution_count": null,
      "outputs": [
        {
          "output_type": "execute_result",
          "data": {
            "text/plain": [
              "'Hello Python! 😎'"
            ],
            "application/vnd.google.colaboratory.intrinsic+json": {
              "type": "string"
            }
          },
          "metadata": {},
          "execution_count": 15
        }
      ]
    },
    {
      "cell_type": "code",
      "source": [
        "type(s)"
      ],
      "metadata": {
        "colab": {
          "base_uri": "https://localhost:8080/"
        },
        "id": "lrH739XrRjYw",
        "outputId": "8e7c8938-5bd4-49a6-f20d-e31fd768a9c5"
      },
      "execution_count": null,
      "outputs": [
        {
          "output_type": "execute_result",
          "data": {
            "text/plain": [
              "str"
            ]
          },
          "metadata": {},
          "execution_count": 16
        }
      ]
    },
    {
      "cell_type": "code",
      "source": [
        "s.upper()"
      ],
      "metadata": {
        "colab": {
          "base_uri": "https://localhost:8080/",
          "height": 36
        },
        "id": "HbaEH0GZRmnz",
        "outputId": "c14e01b9-4a9e-4daf-9f27-9c90140e8287"
      },
      "execution_count": null,
      "outputs": [
        {
          "output_type": "execute_result",
          "data": {
            "text/plain": [
              "'HELLO PYTHON! 😎'"
            ],
            "application/vnd.google.colaboratory.intrinsic+json": {
              "type": "string"
            }
          },
          "metadata": {},
          "execution_count": 17
        }
      ]
    },
    {
      "cell_type": "code",
      "source": [
        "s"
      ],
      "metadata": {
        "colab": {
          "base_uri": "https://localhost:8080/",
          "height": 36
        },
        "id": "l9AvH2a_R5lI",
        "outputId": "a1a11522-1b6c-4af4-bb68-f5bf53bd0148"
      },
      "execution_count": null,
      "outputs": [
        {
          "output_type": "execute_result",
          "data": {
            "text/plain": [
              "'Hello Python! 😎'"
            ],
            "application/vnd.google.colaboratory.intrinsic+json": {
              "type": "string"
            }
          },
          "metadata": {},
          "execution_count": 18
        }
      ]
    },
    {
      "cell_type": "code",
      "source": [
        "s.upper().lower().capitalize()"
      ],
      "metadata": {
        "colab": {
          "base_uri": "https://localhost:8080/",
          "height": 36
        },
        "id": "Dk7VGRj9R8FB",
        "outputId": "7811488b-0e13-4075-a7d5-12a5418d84e6"
      },
      "execution_count": null,
      "outputs": [
        {
          "output_type": "execute_result",
          "data": {
            "text/plain": [
              "'Hello python! 😎'"
            ],
            "application/vnd.google.colaboratory.intrinsic+json": {
              "type": "string"
            }
          },
          "metadata": {},
          "execution_count": 21
        }
      ]
    },
    {
      "cell_type": "code",
      "source": [
        "s2 = 'Hello'\n",
        "s2"
      ],
      "metadata": {
        "colab": {
          "base_uri": "https://localhost:8080/",
          "height": 36
        },
        "id": "XYEF_ruVSxiQ",
        "outputId": "1a5b00f4-cb75-4e03-9808-7bb9ce3db4b7"
      },
      "execution_count": null,
      "outputs": [
        {
          "output_type": "execute_result",
          "data": {
            "text/plain": [
              "'Hello'"
            ],
            "application/vnd.google.colaboratory.intrinsic+json": {
              "type": "string"
            }
          },
          "metadata": {},
          "execution_count": 22
        }
      ]
    },
    {
      "cell_type": "code",
      "source": [
        "s3 = '''\n",
        "this is a string\n",
        "that has\n",
        "multiple lines\n",
        "'''\n",
        "s3"
      ],
      "metadata": {
        "colab": {
          "base_uri": "https://localhost:8080/",
          "height": 36
        },
        "id": "Hcgsrq1gSzsW",
        "outputId": "ef27f1d6-15ad-40c8-dad2-9ff8854c50af"
      },
      "execution_count": null,
      "outputs": [
        {
          "output_type": "execute_result",
          "data": {
            "text/plain": [
              "'\\nthis is a string\\nthat has\\nmultiple lines\\n'"
            ],
            "application/vnd.google.colaboratory.intrinsic+json": {
              "type": "string"
            }
          },
          "metadata": {},
          "execution_count": 23
        }
      ]
    },
    {
      "cell_type": "code",
      "source": [
        "print(s3)"
      ],
      "metadata": {
        "colab": {
          "base_uri": "https://localhost:8080/"
        },
        "id": "Wor1FVAHS-U1",
        "outputId": "bce85cc6-898a-4144-bf06-039eddae3163"
      },
      "execution_count": null,
      "outputs": [
        {
          "output_type": "stream",
          "name": "stdout",
          "text": [
            "\n",
            "this is a string\n",
            "that has\n",
            "multiple lines\n",
            "\n"
          ]
        }
      ]
    },
    {
      "cell_type": "markdown",
      "source": [
        "## boolean"
      ],
      "metadata": {
        "id": "CiFdG2CzSpDp"
      }
    },
    {
      "cell_type": "code",
      "source": [
        "b = True #boolean: True or False\n",
        "b"
      ],
      "metadata": {
        "colab": {
          "base_uri": "https://localhost:8080/"
        },
        "id": "hy4c2W3JSaha",
        "outputId": "ebee7955-1e26-471a-bc36-a4f3156762a3"
      },
      "execution_count": null,
      "outputs": [
        {
          "output_type": "execute_result",
          "data": {
            "text/plain": [
              "True"
            ]
          },
          "metadata": {},
          "execution_count": 30
        }
      ]
    },
    {
      "cell_type": "code",
      "source": [
        "type(b1)"
      ],
      "metadata": {
        "colab": {
          "base_uri": "https://localhost:8080/"
        },
        "id": "TzVVDkbPTSFg",
        "outputId": "e829ed05-4e62-426c-adb8-3131ebbf03ee"
      },
      "execution_count": null,
      "outputs": [
        {
          "output_type": "execute_result",
          "data": {
            "text/plain": [
              "bool"
            ]
          },
          "metadata": {},
          "execution_count": 29
        }
      ]
    },
    {
      "cell_type": "code",
      "source": [
        "b1 = False\n",
        "b1"
      ],
      "metadata": {
        "colab": {
          "base_uri": "https://localhost:8080/"
        },
        "id": "6Ulq9bi1TPdK",
        "outputId": "0d95bb85-ea47-48a6-9598-ba6e6c7121c6"
      },
      "execution_count": null,
      "outputs": [
        {
          "output_type": "execute_result",
          "data": {
            "text/plain": [
              "False"
            ]
          },
          "metadata": {},
          "execution_count": 28
        }
      ]
    },
    {
      "cell_type": "code",
      "source": [
        "True + True #in python, True is identical to 1 and False is identical to 0"
      ],
      "metadata": {
        "colab": {
          "base_uri": "https://localhost:8080/"
        },
        "id": "TKWIcqYHTXMS",
        "outputId": "3b337345-3e28-4b86-8519-3219c5af42d1"
      },
      "execution_count": null,
      "outputs": [
        {
          "output_type": "execute_result",
          "data": {
            "text/plain": [
              "2"
            ]
          },
          "metadata": {},
          "execution_count": 31
        }
      ]
    },
    {
      "cell_type": "code",
      "source": [
        "True * False"
      ],
      "metadata": {
        "colab": {
          "base_uri": "https://localhost:8080/"
        },
        "id": "XOq2NZ9WTdpe",
        "outputId": "081ddf6e-57fa-4cd1-888f-bb56171bff87"
      },
      "execution_count": null,
      "outputs": [
        {
          "output_type": "execute_result",
          "data": {
            "text/plain": [
              "0"
            ]
          },
          "metadata": {},
          "execution_count": 33
        }
      ]
    },
    {
      "cell_type": "markdown",
      "source": [
        "# Basic operations"
      ],
      "metadata": {
        "id": "Sl0VtHXuT2qu"
      }
    },
    {
      "cell_type": "code",
      "source": [
        "y = 1 + 3 + 4\n",
        "y"
      ],
      "metadata": {
        "colab": {
          "base_uri": "https://localhost:8080/"
        },
        "id": "FT450WHFTsLz",
        "outputId": "e035bf2e-9627-4676-d550-4d98883cae14"
      },
      "execution_count": null,
      "outputs": [
        {
          "output_type": "execute_result",
          "data": {
            "text/plain": [
              "8"
            ]
          },
          "metadata": {},
          "execution_count": 34
        }
      ]
    },
    {
      "cell_type": "code",
      "source": [
        "y1 = (4-3)*8/7\n",
        "y1"
      ],
      "metadata": {
        "colab": {
          "base_uri": "https://localhost:8080/"
        },
        "id": "5m5v1TYnT8-M",
        "outputId": "0a087b60-7fee-4b0a-caa0-553ab4d9a45b"
      },
      "execution_count": null,
      "outputs": [
        {
          "output_type": "execute_result",
          "data": {
            "text/plain": [
              "1.1428571428571428"
            ]
          },
          "metadata": {},
          "execution_count": 37
        }
      ]
    },
    {
      "cell_type": "code",
      "source": [
        "int(y1)"
      ],
      "metadata": {
        "colab": {
          "base_uri": "https://localhost:8080/"
        },
        "id": "_2ZlnnYNULsY",
        "outputId": "1a50e761-0903-4cf3-b6cd-3218309845e0"
      },
      "execution_count": null,
      "outputs": [
        {
          "output_type": "execute_result",
          "data": {
            "text/plain": [
              "1"
            ]
          },
          "metadata": {},
          "execution_count": 40
        }
      ]
    },
    {
      "cell_type": "code",
      "source": [
        "import math\n",
        "math.floor(y1)"
      ],
      "metadata": {
        "colab": {
          "base_uri": "https://localhost:8080/"
        },
        "id": "ArWSeQbiUQfn",
        "outputId": "b6580864-1ac9-4361-bcec-b5e93f1f6f25"
      },
      "execution_count": null,
      "outputs": [
        {
          "output_type": "execute_result",
          "data": {
            "text/plain": [
              "1"
            ]
          },
          "metadata": {},
          "execution_count": 43
        }
      ]
    },
    {
      "cell_type": "code",
      "source": [
        "math.ceil(y1)"
      ],
      "metadata": {
        "colab": {
          "base_uri": "https://localhost:8080/"
        },
        "id": "_laj_If3UjTn",
        "outputId": "bc232291-4da6-4bf7-efc0-02d7299bb7ee"
      },
      "execution_count": null,
      "outputs": [
        {
          "output_type": "execute_result",
          "data": {
            "text/plain": [
              "2"
            ]
          },
          "metadata": {},
          "execution_count": 44
        }
      ]
    },
    {
      "cell_type": "code",
      "source": [
        "round(y1, 3)"
      ],
      "metadata": {
        "colab": {
          "base_uri": "https://localhost:8080/"
        },
        "id": "2NiCTwa5Unye",
        "outputId": "799d5391-2402-4165-e025-cc24d3f2c3e1"
      },
      "execution_count": null,
      "outputs": [
        {
          "output_type": "execute_result",
          "data": {
            "text/plain": [
              "1.143"
            ]
          },
          "metadata": {},
          "execution_count": 46
        }
      ]
    },
    {
      "cell_type": "code",
      "source": [
        "round(number=y1, ndigits=2)"
      ],
      "metadata": {
        "colab": {
          "base_uri": "https://localhost:8080/"
        },
        "id": "B2ayHYwCUyuo",
        "outputId": "f3ec22ec-6d73-4edf-cfd0-cc0f578fcf18"
      },
      "execution_count": null,
      "outputs": [
        {
          "output_type": "execute_result",
          "data": {
            "text/plain": [
              "1.14"
            ]
          },
          "metadata": {},
          "execution_count": 47
        }
      ]
    },
    {
      "cell_type": "code",
      "source": [
        "#how to install a third-party python library\n",
        "!pip install numpy"
      ],
      "metadata": {
        "colab": {
          "base_uri": "https://localhost:8080/"
        },
        "id": "ULVliDN2ViiO",
        "outputId": "3ba66447-c7d8-4fdb-de21-228ddaa6d05a"
      },
      "execution_count": null,
      "outputs": [
        {
          "output_type": "stream",
          "name": "stdout",
          "text": [
            "Looking in indexes: https://pypi.org/simple, https://us-python.pkg.dev/colab-wheels/public/simple/\n",
            "Requirement already satisfied: numpy in /usr/local/lib/python3.7/dist-packages (1.21.6)\n"
          ]
        }
      ]
    },
    {
      "cell_type": "code",
      "source": [
        "#how to import libraries\n",
        "import numpy as np\n",
        "import pandas as pd"
      ],
      "metadata": {
        "id": "vabKtZcCVEHZ"
      },
      "execution_count": null,
      "outputs": []
    },
    {
      "cell_type": "markdown",
      "source": [
        "# Collections\n",
        "\n",
        "1.   List\n",
        "2.   Tuple\n",
        "3.   Dictionary\n",
        "\n"
      ],
      "metadata": {
        "id": "NqvCHZRkV5Tr"
      }
    },
    {
      "cell_type": "markdown",
      "source": [
        "## list"
      ],
      "metadata": {
        "id": "-ADLzKWrWEvs"
      }
    },
    {
      "cell_type": "code",
      "source": [
        "L = [1,2,3]\n",
        "L"
      ],
      "metadata": {
        "colab": {
          "base_uri": "https://localhost:8080/"
        },
        "id": "r2g37ylpVRDR",
        "outputId": "da527904-667e-42a8-afb3-5423bfa624f7"
      },
      "execution_count": null,
      "outputs": [
        {
          "output_type": "execute_result",
          "data": {
            "text/plain": [
              "[1, 2, 3]"
            ]
          },
          "metadata": {},
          "execution_count": 55
        }
      ]
    },
    {
      "cell_type": "code",
      "source": [
        "type(L)"
      ],
      "metadata": {
        "colab": {
          "base_uri": "https://localhost:8080/"
        },
        "id": "7H-nWONrWIP3",
        "outputId": "1214b62f-410f-44b2-f84f-83c561205b11"
      },
      "execution_count": null,
      "outputs": [
        {
          "output_type": "execute_result",
          "data": {
            "text/plain": [
              "list"
            ]
          },
          "metadata": {},
          "execution_count": 52
        }
      ]
    },
    {
      "cell_type": "markdown",
      "source": [
        "**in Python, index starts from 0**"
      ],
      "metadata": {
        "id": "iUlmRmsHYTSC"
      }
    },
    {
      "cell_type": "code",
      "source": [
        "L[0] #[] is also used for indexing"
      ],
      "metadata": {
        "colab": {
          "base_uri": "https://localhost:8080/"
        },
        "id": "e2BhfrObX-hZ",
        "outputId": "0979d629-73c6-4c02-9aea-5bd09fc779ba"
      },
      "execution_count": null,
      "outputs": [
        {
          "output_type": "execute_result",
          "data": {
            "text/plain": [
              "1"
            ]
          },
          "metadata": {},
          "execution_count": 58
        }
      ]
    },
    {
      "cell_type": "code",
      "source": [
        "L[1]"
      ],
      "metadata": {
        "colab": {
          "base_uri": "https://localhost:8080/"
        },
        "id": "o2DVqAWQYVsp",
        "outputId": "a0af52b0-5ee8-4304-aa93-4475d7d1d70e"
      },
      "execution_count": null,
      "outputs": [
        {
          "output_type": "execute_result",
          "data": {
            "text/plain": [
              "2"
            ]
          },
          "metadata": {},
          "execution_count": 59
        }
      ]
    },
    {
      "cell_type": "code",
      "source": [
        "L[2]"
      ],
      "metadata": {
        "colab": {
          "base_uri": "https://localhost:8080/"
        },
        "id": "HCKzK0r0YZGE",
        "outputId": "f351502c-71f0-4307-d080-3d9604d0eff9"
      },
      "execution_count": null,
      "outputs": [
        {
          "output_type": "execute_result",
          "data": {
            "text/plain": [
              "3"
            ]
          },
          "metadata": {},
          "execution_count": 60
        }
      ]
    },
    {
      "cell_type": "code",
      "source": [
        "L[3]"
      ],
      "metadata": {
        "colab": {
          "base_uri": "https://localhost:8080/",
          "height": 165
        },
        "id": "yExxfyjSYd-4",
        "outputId": "ec0af36f-eda9-4532-9979-f4355fb4d641"
      },
      "execution_count": null,
      "outputs": [
        {
          "output_type": "error",
          "ename": "IndexError",
          "evalue": "ignored",
          "traceback": [
            "\u001b[0;31m---------------------------------------------------------------------------\u001b[0m",
            "\u001b[0;31mIndexError\u001b[0m                                Traceback (most recent call last)",
            "\u001b[0;32m<ipython-input-61-28c5e42e8527>\u001b[0m in \u001b[0;36m<module>\u001b[0;34m()\u001b[0m\n\u001b[0;32m----> 1\u001b[0;31m \u001b[0mL\u001b[0m\u001b[0;34m[\u001b[0m\u001b[0;36m3\u001b[0m\u001b[0;34m]\u001b[0m\u001b[0;34m\u001b[0m\u001b[0;34m\u001b[0m\u001b[0m\n\u001b[0m",
            "\u001b[0;31mIndexError\u001b[0m: list index out of range"
          ]
        }
      ]
    },
    {
      "cell_type": "code",
      "source": [
        "L[-1] #-1 is the last element"
      ],
      "metadata": {
        "colab": {
          "base_uri": "https://localhost:8080/"
        },
        "id": "g8d3-FBnY70j",
        "outputId": "a406e4f2-d58f-4ecb-c11b-46d962510fbe"
      },
      "execution_count": null,
      "outputs": [
        {
          "output_type": "execute_result",
          "data": {
            "text/plain": [
              "3"
            ]
          },
          "metadata": {},
          "execution_count": 64
        }
      ]
    },
    {
      "cell_type": "code",
      "source": [
        "L2 = [22, 33, 444, 555, \"a\", \"B\", \"Python\", [111, 222, 333], print]\n",
        "L2"
      ],
      "metadata": {
        "colab": {
          "base_uri": "https://localhost:8080/"
        },
        "id": "BAMGTeHRZKLX",
        "outputId": "43d89d8c-24fd-40e0-fa58-d7c640d77721"
      },
      "execution_count": null,
      "outputs": [
        {
          "output_type": "execute_result",
          "data": {
            "text/plain": [
              "[22, 33, 444, 555, 'a', 'B', 'Python', [111, 222, 333], <function print>]"
            ]
          },
          "metadata": {},
          "execution_count": 65
        }
      ]
    },
    {
      "cell_type": "code",
      "source": [
        "L2[7][1]"
      ],
      "metadata": {
        "colab": {
          "base_uri": "https://localhost:8080/"
        },
        "id": "gkzh_TG1Zck1",
        "outputId": "57b7702e-0c22-41a4-fd91-c91077315d50"
      },
      "execution_count": null,
      "outputs": [
        {
          "output_type": "execute_result",
          "data": {
            "text/plain": [
              "222"
            ]
          },
          "metadata": {},
          "execution_count": 70
        }
      ]
    },
    {
      "cell_type": "code",
      "source": [
        "L2[-2][1]"
      ],
      "metadata": {
        "colab": {
          "base_uri": "https://localhost:8080/"
        },
        "id": "qXSATQdHaHaK",
        "outputId": "dfe5a8df-9c38-420a-eea2-8ce074d6b7da"
      },
      "execution_count": null,
      "outputs": [
        {
          "output_type": "execute_result",
          "data": {
            "text/plain": [
              "222"
            ]
          },
          "metadata": {},
          "execution_count": 74
        }
      ]
    },
    {
      "cell_type": "code",
      "source": [
        "L3 = [322, 543,5234,33,12,0,-34]\n",
        "L3"
      ],
      "metadata": {
        "colab": {
          "base_uri": "https://localhost:8080/"
        },
        "id": "9gcF3xM6aaNA",
        "outputId": "7eb6c0cd-b9d4-4d54-9ce6-7da1d2b4350c"
      },
      "execution_count": null,
      "outputs": [
        {
          "output_type": "execute_result",
          "data": {
            "text/plain": [
              "[322, 543, 5234, 33, 12, 0, -34]"
            ]
          },
          "metadata": {},
          "execution_count": 77
        }
      ]
    },
    {
      "cell_type": "code",
      "source": [
        "L3.sort(reverse=True)"
      ],
      "metadata": {
        "id": "DR_jhFV5awzf"
      },
      "execution_count": null,
      "outputs": []
    },
    {
      "cell_type": "code",
      "source": [
        "L3"
      ],
      "metadata": {
        "colab": {
          "base_uri": "https://localhost:8080/"
        },
        "id": "cgxJpVIha2KZ",
        "outputId": "0511bc7a-8290-4cb2-f344-28ebb94ad6f6"
      },
      "execution_count": null,
      "outputs": [
        {
          "output_type": "execute_result",
          "data": {
            "text/plain": [
              "[5234, 543, 322, 33, 12, 0, -34]"
            ]
          },
          "metadata": {},
          "execution_count": 81
        }
      ]
    },
    {
      "cell_type": "code",
      "source": [
        "L3.append(999)"
      ],
      "metadata": {
        "id": "cvfhGfJQbB6T"
      },
      "execution_count": null,
      "outputs": []
    },
    {
      "cell_type": "code",
      "source": [
        "L3"
      ],
      "metadata": {
        "colab": {
          "base_uri": "https://localhost:8080/"
        },
        "id": "lhLHy3oUbH26",
        "outputId": "274a494f-df15-421a-a117-c87a84a3b978"
      },
      "execution_count": null,
      "outputs": [
        {
          "output_type": "execute_result",
          "data": {
            "text/plain": [
              "[5234, 543, 322, 33, 12, 0, -34, 999]"
            ]
          },
          "metadata": {},
          "execution_count": 83
        }
      ]
    },
    {
      "cell_type": "code",
      "source": [
        "L4 = [22, 33, 444, 555, \"a\", \"B\", \"Python\", [111, 222, 333], print]\n",
        "L4.sort()\n",
        "L4"
      ],
      "metadata": {
        "colab": {
          "base_uri": "https://localhost:8080/",
          "height": 200
        },
        "id": "Fu0b3HE4bXbK",
        "outputId": "6c03d742-7c7d-4a9c-eb9d-1b3fc08ecdd1"
      },
      "execution_count": null,
      "outputs": [
        {
          "output_type": "error",
          "ename": "TypeError",
          "evalue": "ignored",
          "traceback": [
            "\u001b[0;31m---------------------------------------------------------------------------\u001b[0m",
            "\u001b[0;31mTypeError\u001b[0m                                 Traceback (most recent call last)",
            "\u001b[0;32m<ipython-input-84-f08a93a058bd>\u001b[0m in \u001b[0;36m<module>\u001b[0;34m()\u001b[0m\n\u001b[1;32m      1\u001b[0m \u001b[0mL4\u001b[0m \u001b[0;34m=\u001b[0m \u001b[0;34m[\u001b[0m\u001b[0;36m22\u001b[0m\u001b[0;34m,\u001b[0m \u001b[0;36m33\u001b[0m\u001b[0;34m,\u001b[0m \u001b[0;36m444\u001b[0m\u001b[0;34m,\u001b[0m \u001b[0;36m555\u001b[0m\u001b[0;34m,\u001b[0m \u001b[0;34m\"a\"\u001b[0m\u001b[0;34m,\u001b[0m \u001b[0;34m\"B\"\u001b[0m\u001b[0;34m,\u001b[0m \u001b[0;34m\"Python\"\u001b[0m\u001b[0;34m,\u001b[0m \u001b[0;34m[\u001b[0m\u001b[0;36m111\u001b[0m\u001b[0;34m,\u001b[0m \u001b[0;36m222\u001b[0m\u001b[0;34m,\u001b[0m \u001b[0;36m333\u001b[0m\u001b[0;34m]\u001b[0m\u001b[0;34m,\u001b[0m \u001b[0mprint\u001b[0m\u001b[0;34m]\u001b[0m\u001b[0;34m\u001b[0m\u001b[0;34m\u001b[0m\u001b[0m\n\u001b[0;32m----> 2\u001b[0;31m \u001b[0mL4\u001b[0m\u001b[0;34m.\u001b[0m\u001b[0msort\u001b[0m\u001b[0;34m(\u001b[0m\u001b[0;34m)\u001b[0m\u001b[0;34m\u001b[0m\u001b[0;34m\u001b[0m\u001b[0m\n\u001b[0m\u001b[1;32m      3\u001b[0m \u001b[0mL4\u001b[0m\u001b[0;34m\u001b[0m\u001b[0;34m\u001b[0m\u001b[0m\n",
            "\u001b[0;31mTypeError\u001b[0m: '<' not supported between instances of 'str' and 'int'"
          ]
        }
      ]
    },
    {
      "cell_type": "code",
      "source": [
        "L5 = [\"a\", \"B\", \"Python\", \"c\", \"xxx\"]\n",
        "L5.sort()\n",
        "L5"
      ],
      "metadata": {
        "colab": {
          "base_uri": "https://localhost:8080/"
        },
        "id": "Ls0VHaBEbfdd",
        "outputId": "023f6502-f30c-437a-c8b6-5c5a42ed9755"
      },
      "execution_count": null,
      "outputs": [
        {
          "output_type": "execute_result",
          "data": {
            "text/plain": [
              "['B', 'Python', 'a', 'c', 'xxx']"
            ]
          },
          "metadata": {},
          "execution_count": 85
        }
      ]
    },
    {
      "cell_type": "code",
      "source": [
        "L6 = [\"a\", \"B\", \"Python\", \"c\", \"xxx\"]\n",
        "L6"
      ],
      "metadata": {
        "colab": {
          "base_uri": "https://localhost:8080/"
        },
        "id": "rUJJtUlgb3vY",
        "outputId": "e9daddfc-fc93-4a69-b05b-48c284a815ea"
      },
      "execution_count": null,
      "outputs": [
        {
          "output_type": "execute_result",
          "data": {
            "text/plain": [
              "['a', 'B', 'Python', 'c', 'xxx']"
            ]
          },
          "metadata": {},
          "execution_count": 89
        }
      ]
    },
    {
      "cell_type": "code",
      "source": [
        "L6[1] = \"C\"\n",
        "L6"
      ],
      "metadata": {
        "colab": {
          "base_uri": "https://localhost:8080/"
        },
        "id": "C2XX4lxCb5-g",
        "outputId": "6fe3a48d-3b58-4151-c380-85a8578eebc5"
      },
      "execution_count": null,
      "outputs": [
        {
          "output_type": "execute_result",
          "data": {
            "text/plain": [
              "['a', 'C', 'Python', 'c', 'xxx']"
            ]
          },
          "metadata": {},
          "execution_count": 91
        }
      ]
    },
    {
      "cell_type": "code",
      "source": [
        "L6[0:3] #this selects elements that have index 0, 1, 2"
      ],
      "metadata": {
        "colab": {
          "base_uri": "https://localhost:8080/"
        },
        "id": "ehJN3mSAcQU9",
        "outputId": "7d415c5f-c10a-473d-ebb6-730dd0c14eb7"
      },
      "execution_count": null,
      "outputs": [
        {
          "output_type": "execute_result",
          "data": {
            "text/plain": [
              "['a', 'C', 'Python']"
            ]
          },
          "metadata": {},
          "execution_count": 97
        }
      ]
    },
    {
      "cell_type": "code",
      "source": [
        "L6[:3]"
      ],
      "metadata": {
        "colab": {
          "base_uri": "https://localhost:8080/"
        },
        "id": "HNGrlb9pcfds",
        "outputId": "20983344-3d3d-41b9-db53-b6d031936a62"
      },
      "execution_count": null,
      "outputs": [
        {
          "output_type": "execute_result",
          "data": {
            "text/plain": [
              "['a', 'C', 'Python']"
            ]
          },
          "metadata": {},
          "execution_count": 98
        }
      ]
    },
    {
      "cell_type": "code",
      "source": [
        "L6[3:]"
      ],
      "metadata": {
        "colab": {
          "base_uri": "https://localhost:8080/"
        },
        "id": "AKEsXFG8cjS6",
        "outputId": "a238e25d-1602-40c6-f59b-ab0e02214cbf"
      },
      "execution_count": null,
      "outputs": [
        {
          "output_type": "execute_result",
          "data": {
            "text/plain": [
              "['c', 'xxx']"
            ]
          },
          "metadata": {},
          "execution_count": 99
        }
      ]
    },
    {
      "cell_type": "code",
      "source": [
        "L6[:]"
      ],
      "metadata": {
        "colab": {
          "base_uri": "https://localhost:8080/"
        },
        "id": "78fse_08cmrH",
        "outputId": "26d30cfb-ac72-4cf1-aaf0-042745dc0c85"
      },
      "execution_count": null,
      "outputs": [
        {
          "output_type": "execute_result",
          "data": {
            "text/plain": [
              "['a', 'C', 'Python', 'c', 'xxx']"
            ]
          },
          "metadata": {},
          "execution_count": 100
        }
      ]
    },
    {
      "cell_type": "code",
      "source": [
        "L6[1:-2]"
      ],
      "metadata": {
        "colab": {
          "base_uri": "https://localhost:8080/"
        },
        "id": "yDF77qgncpWX",
        "outputId": "92496805-d7a2-4710-b3a0-9e4552c79064"
      },
      "execution_count": null,
      "outputs": [
        {
          "output_type": "execute_result",
          "data": {
            "text/plain": [
              "['C', 'Python']"
            ]
          },
          "metadata": {},
          "execution_count": 101
        }
      ]
    },
    {
      "cell_type": "code",
      "source": [
        "L6"
      ],
      "metadata": {
        "colab": {
          "base_uri": "https://localhost:8080/"
        },
        "id": "YkQ84zkjc3Rw",
        "outputId": "f7ec51c1-2a1f-4b9c-e5a0-39c3f17b3b64"
      },
      "execution_count": null,
      "outputs": [
        {
          "output_type": "execute_result",
          "data": {
            "text/plain": [
              "['a', 'C', 'Python', 'c', 'xxx']"
            ]
          },
          "metadata": {},
          "execution_count": 102
        }
      ]
    },
    {
      "cell_type": "code",
      "source": [
        "L6.insert(-2, \"Inserted a string\")"
      ],
      "metadata": {
        "id": "d8iT_sPCc5Tz"
      },
      "execution_count": null,
      "outputs": []
    },
    {
      "cell_type": "code",
      "source": [
        "L6"
      ],
      "metadata": {
        "colab": {
          "base_uri": "https://localhost:8080/"
        },
        "id": "SyuGu-nJdGgh",
        "outputId": "b26a2427-53fd-432f-9e19-42d55907d104"
      },
      "execution_count": null,
      "outputs": [
        {
          "output_type": "execute_result",
          "data": {
            "text/plain": [
              "['a', 'C', 'Python', 'Inserted a string', 'c', 'xxx']"
            ]
          },
          "metadata": {},
          "execution_count": 104
        }
      ]
    },
    {
      "cell_type": "markdown",
      "source": [
        "## tuple"
      ],
      "metadata": {
        "id": "N-gIGB4BWUlU"
      }
    },
    {
      "cell_type": "code",
      "source": [
        "T = (11, 22, 33)\n",
        "T"
      ],
      "metadata": {
        "colab": {
          "base_uri": "https://localhost:8080/"
        },
        "id": "vuOihKwTWKB3",
        "outputId": "0a2a86c8-1b3d-4026-e9e3-ae5980c10abf"
      },
      "execution_count": null,
      "outputs": [
        {
          "output_type": "execute_result",
          "data": {
            "text/plain": [
              "(11, 22, 33)"
            ]
          },
          "metadata": {},
          "execution_count": 53
        }
      ]
    },
    {
      "cell_type": "code",
      "source": [
        "type(T)"
      ],
      "metadata": {
        "colab": {
          "base_uri": "https://localhost:8080/"
        },
        "id": "nmwryhXZWbB3",
        "outputId": "fec8a307-8b90-4e5a-d1f9-013fc4ee70cd"
      },
      "execution_count": null,
      "outputs": [
        {
          "output_type": "execute_result",
          "data": {
            "text/plain": [
              "tuple"
            ]
          },
          "metadata": {},
          "execution_count": 54
        }
      ]
    },
    {
      "cell_type": "code",
      "source": [
        "T[0]"
      ],
      "metadata": {
        "colab": {
          "base_uri": "https://localhost:8080/"
        },
        "id": "DBoTw80bbwt4",
        "outputId": "c2a6bf0f-b9e5-4faf-c46d-0f17220f5b22"
      },
      "execution_count": null,
      "outputs": [
        {
          "output_type": "execute_result",
          "data": {
            "text/plain": [
              "11"
            ]
          },
          "metadata": {},
          "execution_count": 86
        }
      ]
    },
    {
      "cell_type": "code",
      "source": [
        "T[-1]"
      ],
      "metadata": {
        "colab": {
          "base_uri": "https://localhost:8080/"
        },
        "id": "cypAmnHoby5C",
        "outputId": "65bab45d-dc32-431c-a374-2417090b767c"
      },
      "execution_count": null,
      "outputs": [
        {
          "output_type": "execute_result",
          "data": {
            "text/plain": [
              "33"
            ]
          },
          "metadata": {},
          "execution_count": 87
        }
      ]
    },
    {
      "cell_type": "code",
      "source": [
        "T[1] = -2 #for tuple, you cannot change the value of an element after it has been defined"
      ],
      "metadata": {
        "colab": {
          "base_uri": "https://localhost:8080/",
          "height": 165
        },
        "id": "Lhu5aRl-cAzC",
        "outputId": "bbdf7695-aa7c-4176-bac2-0ba7e32b088d"
      },
      "execution_count": null,
      "outputs": [
        {
          "output_type": "error",
          "ename": "TypeError",
          "evalue": "ignored",
          "traceback": [
            "\u001b[0;31m---------------------------------------------------------------------------\u001b[0m",
            "\u001b[0;31mTypeError\u001b[0m                                 Traceback (most recent call last)",
            "\u001b[0;32m<ipython-input-93-5ca214030599>\u001b[0m in \u001b[0;36m<module>\u001b[0;34m()\u001b[0m\n\u001b[0;32m----> 1\u001b[0;31m \u001b[0mT\u001b[0m\u001b[0;34m[\u001b[0m\u001b[0;36m1\u001b[0m\u001b[0;34m]\u001b[0m \u001b[0;34m=\u001b[0m \u001b[0;34m-\u001b[0m\u001b[0;36m2\u001b[0m\u001b[0;34m\u001b[0m\u001b[0;34m\u001b[0m\u001b[0m\n\u001b[0m",
            "\u001b[0;31mTypeError\u001b[0m: 'tuple' object does not support item assignment"
          ]
        }
      ]
    },
    {
      "cell_type": "markdown",
      "source": [
        "## dictionary"
      ],
      "metadata": {
        "id": "tWSXld2zWc6R"
      }
    },
    {
      "cell_type": "code",
      "source": [
        "D = {\"a\": 1, \"b\": 2, 'c': 3, 999: \"some value\"}\n",
        "D"
      ],
      "metadata": {
        "colab": {
          "base_uri": "https://localhost:8080/"
        },
        "id": "zCTEpsLbWe9-",
        "outputId": "8e4e2cbf-c664-4772-9de0-d0aa79730356"
      },
      "execution_count": null,
      "outputs": [
        {
          "output_type": "execute_result",
          "data": {
            "text/plain": [
              "{999: 'some value', 'a': 1, 'b': 2, 'c': 3}"
            ]
          },
          "metadata": {},
          "execution_count": 106
        }
      ]
    },
    {
      "cell_type": "code",
      "source": [
        "type(D)"
      ],
      "metadata": {
        "colab": {
          "base_uri": "https://localhost:8080/"
        },
        "id": "nITDob22WwDY",
        "outputId": "efa14b15-3383-48df-d4b0-6773a70a4b4f"
      },
      "execution_count": null,
      "outputs": [
        {
          "output_type": "execute_result",
          "data": {
            "text/plain": [
              "dict"
            ]
          },
          "metadata": {},
          "execution_count": 57
        }
      ]
    },
    {
      "cell_type": "code",
      "source": [
        "D[\"b\"]"
      ],
      "metadata": {
        "colab": {
          "base_uri": "https://localhost:8080/"
        },
        "id": "V1PlboYidYGL",
        "outputId": "a00605e2-9a13-4bc0-fb4d-7c1279b27235"
      },
      "execution_count": null,
      "outputs": [
        {
          "output_type": "execute_result",
          "data": {
            "text/plain": [
              "2"
            ]
          },
          "metadata": {},
          "execution_count": 105
        }
      ]
    },
    {
      "cell_type": "code",
      "source": [
        "D[999]"
      ],
      "metadata": {
        "colab": {
          "base_uri": "https://localhost:8080/",
          "height": 36
        },
        "id": "-KjFxoLcdnCT",
        "outputId": "f787c9fc-e4a6-4dbc-d71d-0375514c7f89"
      },
      "execution_count": null,
      "outputs": [
        {
          "output_type": "execute_result",
          "data": {
            "text/plain": [
              "'some value'"
            ],
            "application/vnd.google.colaboratory.intrinsic+json": {
              "type": "string"
            }
          },
          "metadata": {},
          "execution_count": 107
        }
      ]
    },
    {
      "cell_type": "code",
      "source": [
        "D[0]"
      ],
      "metadata": {
        "colab": {
          "base_uri": "https://localhost:8080/",
          "height": 165
        },
        "id": "JHHSKdmmdpTf",
        "outputId": "8448e02a-592b-4fdc-ea8e-6a1777334a3d"
      },
      "execution_count": null,
      "outputs": [
        {
          "output_type": "error",
          "ename": "KeyError",
          "evalue": "ignored",
          "traceback": [
            "\u001b[0;31m---------------------------------------------------------------------------\u001b[0m",
            "\u001b[0;31mKeyError\u001b[0m                                  Traceback (most recent call last)",
            "\u001b[0;32m<ipython-input-108-a2635327f65d>\u001b[0m in \u001b[0;36m<module>\u001b[0;34m()\u001b[0m\n\u001b[0;32m----> 1\u001b[0;31m \u001b[0mD\u001b[0m\u001b[0;34m[\u001b[0m\u001b[0;36m0\u001b[0m\u001b[0;34m]\u001b[0m\u001b[0;34m\u001b[0m\u001b[0;34m\u001b[0m\u001b[0m\n\u001b[0m",
            "\u001b[0;31mKeyError\u001b[0m: 0"
          ]
        }
      ]
    },
    {
      "cell_type": "code",
      "source": [
        "%%timeit\n",
        "D = {\"a\": 1, \"b\": 2, 'c': 3, 999: \"some value\"}"
      ],
      "metadata": {
        "colab": {
          "base_uri": "https://localhost:8080/"
        },
        "id": "4FPZlPFvd5pn",
        "outputId": "8ed67e83-6ad1-4ad4-d5be-0335129e98ca"
      },
      "execution_count": null,
      "outputs": [
        {
          "output_type": "stream",
          "name": "stdout",
          "text": [
            "The slowest run took 7.16 times longer than the fastest. This could mean that an intermediate result is being cached.\n",
            "10000000 loops, best of 5: 159 ns per loop\n"
          ]
        }
      ]
    },
    {
      "cell_type": "markdown",
      "source": [
        "# Loops"
      ],
      "metadata": {
        "id": "0vuo-DLHeSrR"
      }
    },
    {
      "cell_type": "markdown",
      "source": [
        "## loop through a list"
      ],
      "metadata": {
        "id": "hTWQlqD_fh-e"
      }
    },
    {
      "cell_type": "code",
      "source": [
        "my_list = list(\"abcdedfg\")\n",
        "my_list"
      ],
      "metadata": {
        "colab": {
          "base_uri": "https://localhost:8080/"
        },
        "id": "ATkg_Jacefvx",
        "outputId": "eea89729-742b-4939-fd57-3bc148c56347"
      },
      "execution_count": null,
      "outputs": [
        {
          "output_type": "execute_result",
          "data": {
            "text/plain": [
              "['a', 'b', 'c', 'd', 'e', 'd', 'f', 'g']"
            ]
          },
          "metadata": {},
          "execution_count": 116
        }
      ]
    },
    {
      "cell_type": "code",
      "source": [
        "for x in my_list:\n",
        "  print(\"looping\")\n",
        "  print(x)\n",
        "print(\"Loop has ended!\")"
      ],
      "metadata": {
        "colab": {
          "base_uri": "https://localhost:8080/"
        },
        "id": "H8Uzjk1aeSiI",
        "outputId": "48271f77-740f-45c8-fb44-0834f9d3384f"
      },
      "execution_count": null,
      "outputs": [
        {
          "output_type": "stream",
          "name": "stdout",
          "text": [
            "looping\n",
            "a\n",
            "looping\n",
            "b\n",
            "looping\n",
            "c\n",
            "looping\n",
            "d\n",
            "looping\n",
            "e\n",
            "looping\n",
            "d\n",
            "looping\n",
            "f\n",
            "looping\n",
            "g\n",
            "Loop has ended!\n"
          ]
        }
      ]
    },
    {
      "cell_type": "markdown",
      "source": [
        "## loop through a tuple"
      ],
      "metadata": {
        "id": "T31IgNHQfjqO"
      }
    },
    {
      "cell_type": "code",
      "source": [
        "my_tuple = tuple(\"abcdedfg\")\n",
        "my_tuple"
      ],
      "metadata": {
        "colab": {
          "base_uri": "https://localhost:8080/"
        },
        "id": "gAW4PvU4fmeM",
        "outputId": "1d9b60f4-ef45-4f0a-be0e-de21959a8777"
      },
      "execution_count": null,
      "outputs": [
        {
          "output_type": "execute_result",
          "data": {
            "text/plain": [
              "('a', 'b', 'c', 'd', 'e', 'd', 'f', 'g')"
            ]
          },
          "metadata": {},
          "execution_count": 126
        }
      ]
    },
    {
      "cell_type": "code",
      "source": [
        "count = 0\n",
        "for x in my_tuple:\n",
        "  print(\"looping\")\n",
        "  print(x.upper())\n",
        "  count += 1 # equivalent to count=count+1\n",
        "print(\"Loop has ended!\")\n",
        "print(count)"
      ],
      "metadata": {
        "colab": {
          "base_uri": "https://localhost:8080/"
        },
        "id": "JFQUldBrfvdk",
        "outputId": "1165567f-dc17-403d-c32f-c1d1ea648800"
      },
      "execution_count": null,
      "outputs": [
        {
          "output_type": "stream",
          "name": "stdout",
          "text": [
            "looping\n",
            "A\n",
            "looping\n",
            "B\n",
            "looping\n",
            "C\n",
            "looping\n",
            "D\n",
            "looping\n",
            "E\n",
            "looping\n",
            "D\n",
            "looping\n",
            "F\n",
            "looping\n",
            "G\n",
            "Loop has ended!\n",
            "8\n"
          ]
        }
      ]
    },
    {
      "cell_type": "code",
      "source": [
        "len(my_tuple)"
      ],
      "metadata": {
        "colab": {
          "base_uri": "https://localhost:8080/"
        },
        "id": "YJiVlqWrgDf1",
        "outputId": "9dd9ce9a-c8cf-4886-955a-2855ff9728b1"
      },
      "execution_count": null,
      "outputs": [
        {
          "output_type": "execute_result",
          "data": {
            "text/plain": [
              "8"
            ]
          },
          "metadata": {},
          "execution_count": 129
        }
      ]
    },
    {
      "cell_type": "markdown",
      "source": [
        "## loop through a dictionary"
      ],
      "metadata": {
        "id": "ZFboHxCrgVbG"
      }
    },
    {
      "cell_type": "code",
      "source": [
        "my_dictionary = {\"a\": 1, \"b\": 2, 'c': 3, 999: \"some value\"}"
      ],
      "metadata": {
        "id": "9Vo-BAaJhbD7"
      },
      "execution_count": null,
      "outputs": []
    },
    {
      "cell_type": "code",
      "source": [
        "for key, value in my_dictionary.items():\n",
        "  print(key, value)"
      ],
      "metadata": {
        "colab": {
          "base_uri": "https://localhost:8080/"
        },
        "id": "RAEXFXXSgXtO",
        "outputId": "d6a90d35-f62b-4a56-e9e0-07cb7fd73fc3"
      },
      "execution_count": null,
      "outputs": [
        {
          "output_type": "stream",
          "name": "stdout",
          "text": [
            "a 1\n",
            "b 2\n",
            "c 3\n",
            "999 some value\n"
          ]
        }
      ]
    },
    {
      "cell_type": "code",
      "source": [
        "for x in my_dictionary.items():\n",
        "  print(x)\n",
        "  print(type(x))"
      ],
      "metadata": {
        "colab": {
          "base_uri": "https://localhost:8080/"
        },
        "id": "dYGtkDOGgzOH",
        "outputId": "14b08f8a-580a-4af8-bec6-4b1192f08cfb"
      },
      "execution_count": null,
      "outputs": [
        {
          "output_type": "stream",
          "name": "stdout",
          "text": [
            "('a', 1)\n",
            "<class 'tuple'>\n",
            "('b', 2)\n",
            "<class 'tuple'>\n",
            "('c', 3)\n",
            "<class 'tuple'>\n",
            "(999, 'some value')\n",
            "<class 'tuple'>\n"
          ]
        }
      ]
    },
    {
      "cell_type": "code",
      "source": [
        "for x in my_dictionary.keys():\n",
        "  print(x)"
      ],
      "metadata": {
        "colab": {
          "base_uri": "https://localhost:8080/"
        },
        "id": "pa4WRrs9hYMJ",
        "outputId": "5e0b3591-32b1-4449-8b7d-65b57fedb3b6"
      },
      "execution_count": null,
      "outputs": [
        {
          "output_type": "stream",
          "name": "stdout",
          "text": [
            "a\n",
            "b\n",
            "c\n",
            "999\n"
          ]
        }
      ]
    },
    {
      "cell_type": "code",
      "source": [
        "for x in my_dictionary.values():\n",
        "  print(x)"
      ],
      "metadata": {
        "colab": {
          "base_uri": "https://localhost:8080/"
        },
        "id": "XSLK6sEihgK8",
        "outputId": "bcada4b1-83b7-4e6a-9b01-75506e13f966"
      },
      "execution_count": null,
      "outputs": [
        {
          "output_type": "stream",
          "name": "stdout",
          "text": [
            "1\n",
            "2\n",
            "3\n",
            "some value\n"
          ]
        }
      ]
    },
    {
      "cell_type": "markdown",
      "source": [
        "Practice: get all the integer values from a dictionary and store them in a list"
      ],
      "metadata": {
        "id": "3-CUrgz7hskL"
      }
    },
    {
      "cell_type": "code",
      "source": [
        "results = []\n",
        "for x in my_dictionary.values():\n",
        "  print(x)\n",
        "  print(type(x))\n",
        "  if type(x) == int:\n",
        "    print(\"It's an integer!\")\n",
        "    results.append(x)\n",
        "  else:\n",
        "    print(\"It's NOT an integer!!!\")  \n",
        "  print()\n",
        "results"
      ],
      "metadata": {
        "colab": {
          "base_uri": "https://localhost:8080/"
        },
        "id": "XyPlAlG3hr00",
        "outputId": "51bc2e55-b69f-4e3b-bd88-f15cef624c91"
      },
      "execution_count": null,
      "outputs": [
        {
          "output_type": "stream",
          "name": "stdout",
          "text": [
            "1\n",
            "<class 'int'>\n",
            "It's an integer!\n",
            "\n",
            "2\n",
            "<class 'int'>\n",
            "It's an integer!\n",
            "\n",
            "3\n",
            "<class 'int'>\n",
            "It's an integer!\n",
            "\n",
            "some value\n",
            "<class 'str'>\n",
            "It's NOT an integer!!!\n",
            "\n"
          ]
        },
        {
          "output_type": "execute_result",
          "data": {
            "text/plain": [
              "[1, 2, 3]"
            ]
          },
          "metadata": {},
          "execution_count": 145
        }
      ]
    },
    {
      "cell_type": "code",
      "source": [
        "results"
      ],
      "metadata": {
        "colab": {
          "base_uri": "https://localhost:8080/"
        },
        "id": "YB7Fft1NihpV",
        "outputId": "db871e67-3dbc-4580-f4cf-de073bc10d7d"
      },
      "execution_count": null,
      "outputs": [
        {
          "output_type": "execute_result",
          "data": {
            "text/plain": [
              "[1, 2, 3]"
            ]
          },
          "metadata": {},
          "execution_count": 144
        }
      ]
    },
    {
      "cell_type": "markdown",
      "source": [
        "# Logical conditions"
      ],
      "metadata": {
        "id": "JFaaL7dUisXq"
      }
    },
    {
      "cell_type": "code",
      "source": [
        "if 3==5:\n",
        "  print(\"3 is equal to 5\")\n",
        "else:\n",
        "  print(\"3 is NOT equal to 5\")"
      ],
      "metadata": {
        "id": "bD-UoyBiiuEA"
      },
      "execution_count": null,
      "outputs": []
    },
    {
      "cell_type": "code",
      "source": [
        "if 3 != 4:\n",
        "  print(\"Condition is met!\")"
      ],
      "metadata": {
        "colab": {
          "base_uri": "https://localhost:8080/"
        },
        "id": "M3q7-Hgnje97",
        "outputId": "5d8ccd2a-790a-4fad-aad8-49ecd02caf9a"
      },
      "execution_count": null,
      "outputs": [
        {
          "output_type": "stream",
          "name": "stdout",
          "text": [
            "Condition is met!\n"
          ]
        }
      ]
    },
    {
      "cell_type": "code",
      "source": [
        "if 3 > 4:\n",
        "  print(\"3>4\")\n",
        "elif 3>5:\n",
        "  print(\"3>5\")\n",
        "else:\n",
        "  print(\"all conditions above are not met\")"
      ],
      "metadata": {
        "colab": {
          "base_uri": "https://localhost:8080/"
        },
        "id": "ur4aup2njlhH",
        "outputId": "657d24bc-5ab9-4b8b-fac5-bdae0387e14c"
      },
      "execution_count": null,
      "outputs": [
        {
          "output_type": "stream",
          "name": "stdout",
          "text": [
            "all conditions above are not met\n"
          ]
        }
      ]
    },
    {
      "cell_type": "code",
      "source": [
        "3==5"
      ],
      "metadata": {
        "colab": {
          "base_uri": "https://localhost:8080/"
        },
        "id": "ksqTX4s6j_up",
        "outputId": "c4764cbb-3f4f-43bf-bc94-7a93fe0e9279"
      },
      "execution_count": null,
      "outputs": [
        {
          "output_type": "execute_result",
          "data": {
            "text/plain": [
              "False"
            ]
          },
          "metadata": {},
          "execution_count": 156
        }
      ]
    },
    {
      "cell_type": "code",
      "source": [
        "if True:\n",
        "  print(\"Condition is met!\")"
      ],
      "metadata": {
        "colab": {
          "base_uri": "https://localhost:8080/"
        },
        "id": "DeH1O7LBkPdZ",
        "outputId": "12ae4d22-e624-4a05-9ec5-1c6339d4b25c"
      },
      "execution_count": null,
      "outputs": [
        {
          "output_type": "stream",
          "name": "stdout",
          "text": [
            "Condition is met!\n"
          ]
        }
      ]
    },
    {
      "cell_type": "code",
      "source": [
        "my_list = list(\"abcdedfg\")\n",
        "my_list"
      ],
      "metadata": {
        "colab": {
          "base_uri": "https://localhost:8080/"
        },
        "id": "mw_1sIq_kPYs",
        "outputId": "f3f908ec-f1ac-439d-908b-95e27d2c4b55"
      },
      "execution_count": null,
      "outputs": [
        {
          "output_type": "execute_result",
          "data": {
            "text/plain": [
              "['a', 'b', 'c', 'd', 'e', 'd', 'f', 'g']"
            ]
          },
          "metadata": {},
          "execution_count": 158
        }
      ]
    },
    {
      "cell_type": "code",
      "source": [
        "len(my_list) == 8"
      ],
      "metadata": {
        "colab": {
          "base_uri": "https://localhost:8080/"
        },
        "id": "6kc4nFd1kdzE",
        "outputId": "4bef6075-8785-4231-bd7a-18d46cdf36e4"
      },
      "execution_count": null,
      "outputs": [
        {
          "output_type": "execute_result",
          "data": {
            "text/plain": [
              "True"
            ]
          },
          "metadata": {},
          "execution_count": 160
        }
      ]
    },
    {
      "cell_type": "code",
      "source": [
        "my_list[1] == \"b\""
      ],
      "metadata": {
        "colab": {
          "base_uri": "https://localhost:8080/"
        },
        "id": "jxJxOLmPkiAG",
        "outputId": "09ec7fe0-f248-4b67-bf32-56479e246f8b"
      },
      "execution_count": null,
      "outputs": [
        {
          "output_type": "execute_result",
          "data": {
            "text/plain": [
              "True"
            ]
          },
          "metadata": {},
          "execution_count": 163
        }
      ]
    },
    {
      "cell_type": "code",
      "source": [
        "if len(my_list) == 8 and my_list[1] == \"b\":\n",
        "  print(\"Condition is met!\")"
      ],
      "metadata": {
        "colab": {
          "base_uri": "https://localhost:8080/"
        },
        "id": "9Z4r9ElhkwbT",
        "outputId": "85e279e9-7323-480c-8b32-b39e4ff19d27"
      },
      "execution_count": null,
      "outputs": [
        {
          "output_type": "stream",
          "name": "stdout",
          "text": [
            "Condition is met!\n"
          ]
        }
      ]
    },
    {
      "cell_type": "code",
      "source": [
        "if True and True:\n",
        "  print(\"Condition is met!\")"
      ],
      "metadata": {
        "colab": {
          "base_uri": "https://localhost:8080/"
        },
        "id": "PAPL6FpvlF4M",
        "outputId": "65b16008-392b-4a15-cd05-9f60d3e9f5cb"
      },
      "execution_count": null,
      "outputs": [
        {
          "output_type": "stream",
          "name": "stdout",
          "text": [
            "Condition is met!\n"
          ]
        }
      ]
    },
    {
      "cell_type": "code",
      "source": [
        "if True:\n",
        "  print(\"Condition is met!\")"
      ],
      "metadata": {
        "colab": {
          "base_uri": "https://localhost:8080/"
        },
        "id": "mRaxS0JXlJuG",
        "outputId": "b5bcee1a-1857-4629-82be-9b9c5e5d39f1"
      },
      "execution_count": null,
      "outputs": [
        {
          "output_type": "stream",
          "name": "stdout",
          "text": [
            "Condition is met!\n"
          ]
        }
      ]
    },
    {
      "cell_type": "code",
      "source": [
        "if len(my_list) == 8 and my_list[1] == \"B\":\n",
        "  print(\"Condition is met!\")\n",
        "else:\n",
        "  print(\"Condition is NOT met!\")"
      ],
      "metadata": {
        "colab": {
          "base_uri": "https://localhost:8080/"
        },
        "id": "dYy71OVilRZ6",
        "outputId": "52ec888d-ad92-43de-fdc1-14e488f9051e"
      },
      "execution_count": null,
      "outputs": [
        {
          "output_type": "stream",
          "name": "stdout",
          "text": [
            "Condition is NOT met!\n"
          ]
        }
      ]
    },
    {
      "cell_type": "code",
      "source": [
        "len(my_list) == 8 and my_list[1] == \"B\""
      ],
      "metadata": {
        "colab": {
          "base_uri": "https://localhost:8080/"
        },
        "id": "qSiOFXgllbdp",
        "outputId": "8551089b-7898-43ec-c4de-071abec3b0a7"
      },
      "execution_count": null,
      "outputs": [
        {
          "output_type": "execute_result",
          "data": {
            "text/plain": [
              "False"
            ]
          },
          "metadata": {},
          "execution_count": 171
        }
      ]
    },
    {
      "cell_type": "code",
      "source": [
        "True and False"
      ],
      "metadata": {
        "colab": {
          "base_uri": "https://localhost:8080/"
        },
        "id": "ldmeTd3UldoG",
        "outputId": "dd50d31d-d9fa-4d2c-b848-6e7ac7c19e44"
      },
      "execution_count": null,
      "outputs": [
        {
          "output_type": "execute_result",
          "data": {
            "text/plain": [
              "False"
            ]
          },
          "metadata": {},
          "execution_count": 174
        }
      ]
    },
    {
      "cell_type": "code",
      "source": [
        "if len(my_list) == 8 or my_list[1] == \"B\":\n",
        "  print(\"Condition is met!\")\n",
        "else:\n",
        "  print(\"Condition is NOT met!\")"
      ],
      "metadata": {
        "colab": {
          "base_uri": "https://localhost:8080/"
        },
        "id": "QQXZjFFjlhgD",
        "outputId": "e4b46b2e-fb93-49f8-a383-c4d39ed7b321"
      },
      "execution_count": null,
      "outputs": [
        {
          "output_type": "stream",
          "name": "stdout",
          "text": [
            "Condition is met!\n"
          ]
        }
      ]
    },
    {
      "cell_type": "code",
      "source": [
        "True or False"
      ],
      "metadata": {
        "colab": {
          "base_uri": "https://localhost:8080/"
        },
        "id": "LosmUuBtlljB",
        "outputId": "3fd8378c-36f8-4e4f-9320-b4e872e30120"
      },
      "execution_count": null,
      "outputs": [
        {
          "output_type": "execute_result",
          "data": {
            "text/plain": [
              "True"
            ]
          },
          "metadata": {},
          "execution_count": 176
        }
      ]
    },
    {
      "cell_type": "code",
      "source": [
        "False and False"
      ],
      "metadata": {
        "colab": {
          "base_uri": "https://localhost:8080/"
        },
        "id": "oN5ONZaKl2Ea",
        "outputId": "a7b539cc-20d1-4df2-e47c-822474cc00aa"
      },
      "execution_count": null,
      "outputs": [
        {
          "output_type": "execute_result",
          "data": {
            "text/plain": [
              "False"
            ]
          },
          "metadata": {},
          "execution_count": 177
        }
      ]
    },
    {
      "cell_type": "code",
      "source": [
        "False or False"
      ],
      "metadata": {
        "colab": {
          "base_uri": "https://localhost:8080/"
        },
        "id": "oj5vsrR0l4cG",
        "outputId": "6424a8a2-91aa-43d6-fd5e-0302eccd2066"
      },
      "execution_count": null,
      "outputs": [
        {
          "output_type": "execute_result",
          "data": {
            "text/plain": [
              "False"
            ]
          },
          "metadata": {},
          "execution_count": 178
        }
      ]
    },
    {
      "cell_type": "code",
      "source": [
        "False or True"
      ],
      "metadata": {
        "colab": {
          "base_uri": "https://localhost:8080/"
        },
        "id": "Vg7aKwXnl6Cc",
        "outputId": "900e9c0a-f94c-4167-8af1-6b545fe4dcdf"
      },
      "execution_count": null,
      "outputs": [
        {
          "output_type": "execute_result",
          "data": {
            "text/plain": [
              "True"
            ]
          },
          "metadata": {},
          "execution_count": 179
        }
      ]
    },
    {
      "cell_type": "markdown",
      "source": [
        "# Functions"
      ],
      "metadata": {
        "id": "L4ivJVxkmZ3T"
      }
    },
    {
      "cell_type": "code",
      "source": [
        "def get_all_integers_from_a_dictionary(d):\n",
        "  results = []\n",
        "  for x in d.values():\n",
        "    if type(x) == int:\n",
        "      results.append(x)\n",
        "  return results #output the results variable from the function\n",
        "  print(\"everything after return will not be run\")"
      ],
      "metadata": {
        "id": "uGbQ9LDamzAg"
      },
      "execution_count": null,
      "outputs": []
    },
    {
      "cell_type": "code",
      "source": [
        "my_dict = {\"a\": 123, \"b\": \"blahblah\", \"c\": 5555, \"d\": -7.77}\n",
        "result = get_all_integers_from_a_dictionary(my_dict)\n",
        "result"
      ],
      "metadata": {
        "colab": {
          "base_uri": "https://localhost:8080/"
        },
        "id": "Y2s4Ff_ZmA7X",
        "outputId": "0d116a3b-f456-4169-9bd0-ae5fd3ba5034"
      },
      "execution_count": null,
      "outputs": [
        {
          "output_type": "stream",
          "name": "stdout",
          "text": [
            "everything after return will not be run\n"
          ]
        },
        {
          "output_type": "execute_result",
          "data": {
            "text/plain": [
              "[123, 5555]"
            ]
          },
          "metadata": {},
          "execution_count": 186
        }
      ]
    },
    {
      "cell_type": "markdown",
      "source": [
        "**return** does two things:\n",
        "1. it outputs the value from the function \n",
        "\n",
        "2. it will terminate the function"
      ],
      "metadata": {
        "id": "B-EtQgxPoMNt"
      }
    },
    {
      "cell_type": "code",
      "source": [
        ""
      ],
      "metadata": {
        "id": "Afp2afCwoL6u"
      },
      "execution_count": null,
      "outputs": []
    }
  ]
}