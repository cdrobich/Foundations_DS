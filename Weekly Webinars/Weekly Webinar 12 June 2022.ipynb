{
 "cells": [
  {
   "cell_type": "markdown",
   "id": "b518e03a",
   "metadata": {},
   "source": [
    "##### June 12th 2022"
   ]
  },
  {
   "cell_type": "code",
   "execution_count": 4,
   "id": "aeeb74f6",
   "metadata": {},
   "outputs": [
    {
     "data": {
      "text/plain": [
       "str"
      ]
     },
     "execution_count": 4,
     "metadata": {},
     "output_type": "execute_result"
    }
   ],
   "source": [
    "s = \"upper\"\n",
    "s.upper()\n",
    "type(s)"
   ]
  },
  {
   "cell_type": "code",
   "execution_count": 6,
   "id": "b2e8e0a2",
   "metadata": {},
   "outputs": [
    {
     "data": {
      "text/plain": [
       "'Upper'"
      ]
     },
     "execution_count": 6,
     "metadata": {},
     "output_type": "execute_result"
    }
   ],
   "source": [
    "s.upper().capitalize() # tab to see suggestions"
   ]
  },
  {
   "cell_type": "code",
   "execution_count": 8,
   "id": "c3bae69e",
   "metadata": {},
   "outputs": [],
   "source": [
    "s2 = \"\"\" this\n",
    "is \n",
    "a paragraph\n",
    "\"\"\""
   ]
  },
  {
   "cell_type": "code",
   "execution_count": 9,
   "id": "11979800",
   "metadata": {},
   "outputs": [
    {
     "data": {
      "text/plain": [
       "' this\\nis \\na paragraph\\n'"
      ]
     },
     "execution_count": 9,
     "metadata": {},
     "output_type": "execute_result"
    }
   ],
   "source": [
    "s2"
   ]
  },
  {
   "cell_type": "code",
   "execution_count": 10,
   "id": "3a8fb01d",
   "metadata": {},
   "outputs": [
    {
     "name": "stdout",
     "output_type": "stream",
     "text": [
      " this\n",
      "is \n",
      "a paragraph\n",
      "\n"
     ]
    }
   ],
   "source": [
    "print(s2)"
   ]
  },
  {
   "cell_type": "code",
   "execution_count": 15,
   "id": "18c5db90",
   "metadata": {},
   "outputs": [
    {
     "data": {
      "text/plain": [
       "1.1428571428571428"
      ]
     },
     "execution_count": 15,
     "metadata": {},
     "output_type": "execute_result"
    }
   ],
   "source": [
    "y1 = (4-3)*8/7\n",
    "y1"
   ]
  },
  {
   "cell_type": "code",
   "execution_count": 16,
   "id": "b39bb166",
   "metadata": {},
   "outputs": [
    {
     "data": {
      "text/plain": [
       "1"
      ]
     },
     "execution_count": 16,
     "metadata": {},
     "output_type": "execute_result"
    }
   ],
   "source": [
    "import math\n",
    "\n",
    "math.floor(y1)"
   ]
  },
  {
   "cell_type": "code",
   "execution_count": 17,
   "id": "ad976b9f",
   "metadata": {},
   "outputs": [
    {
     "data": {
      "text/plain": [
       "1.143"
      ]
     },
     "execution_count": 17,
     "metadata": {},
     "output_type": "execute_result"
    }
   ],
   "source": [
    "round(y1, 3) # round value to 3 digits"
   ]
  },
  {
   "cell_type": "code",
   "execution_count": 24,
   "id": "48a0a4ae",
   "metadata": {
    "scrolled": true
   },
   "outputs": [
    {
     "name": "stdout",
     "output_type": "stream",
     "text": [
      "Requirement already satisfied: numpy in c:\\users\\court\\anaconda3\\lib\\site-packages (1.21.5)\n"
     ]
    }
   ],
   "source": [
    "!pip install numpy\n"
   ]
  },
  {
   "cell_type": "code",
   "execution_count": 27,
   "id": "5554a97a",
   "metadata": {
    "scrolled": true
   },
   "outputs": [
    {
     "name": "stdout",
     "output_type": "stream",
     "text": [
      "Requirement already satisfied: pandas in c:\\users\\court\\anaconda3\\lib\\site-packages (1.4.2)\n",
      "Requirement already satisfied: python-dateutil>=2.8.1 in c:\\users\\court\\anaconda3\\lib\\site-packages (from pandas) (2.8.2)\n",
      "Requirement already satisfied: numpy>=1.18.5 in c:\\users\\court\\anaconda3\\lib\\site-packages (from pandas) (1.21.5)\n",
      "Requirement already satisfied: pytz>=2020.1 in c:\\users\\court\\anaconda3\\lib\\site-packages (from pandas) (2021.3)\n",
      "Requirement already satisfied: six>=1.5 in c:\\users\\court\\anaconda3\\lib\\site-packages (from python-dateutil>=2.8.1->pandas) (1.16.0)\n"
     ]
    }
   ],
   "source": [
    "!pip install pandas"
   ]
  },
  {
   "cell_type": "code",
   "execution_count": 26,
   "id": "03c4e4f6",
   "metadata": {},
   "outputs": [],
   "source": [
    "import numpy as np"
   ]
  },
  {
   "cell_type": "code",
   "execution_count": 28,
   "id": "5ccadf8b",
   "metadata": {},
   "outputs": [],
   "source": [
    "import pandas as pd"
   ]
  },
  {
   "cell_type": "markdown",
   "id": "56741d03",
   "metadata": {},
   "source": [
    "#### Collections\n",
    "\n",
    "1. List\n",
    "2. Tuple\n",
    "3. Dictionary"
   ]
  },
  {
   "cell_type": "code",
   "execution_count": 33,
   "id": "06bff556",
   "metadata": {},
   "outputs": [
    {
     "data": {
      "text/plain": [
       "[1, 2, 3]"
      ]
     },
     "execution_count": 33,
     "metadata": {},
     "output_type": "execute_result"
    }
   ],
   "source": [
    "L = [1,2,3]\n",
    "L"
   ]
  },
  {
   "cell_type": "code",
   "execution_count": 30,
   "id": "7efa6c61",
   "metadata": {},
   "outputs": [
    {
     "data": {
      "text/plain": [
       "list"
      ]
     },
     "execution_count": 30,
     "metadata": {},
     "output_type": "execute_result"
    }
   ],
   "source": [
    "type(L)\n"
   ]
  },
  {
   "cell_type": "code",
   "execution_count": 32,
   "id": "ed5186b8",
   "metadata": {},
   "outputs": [
    {
     "data": {
      "text/plain": [
       "(11, 22, 33)"
      ]
     },
     "execution_count": 32,
     "metadata": {},
     "output_type": "execute_result"
    }
   ],
   "source": [
    "T = (11,22,33)\n",
    "T"
   ]
  },
  {
   "cell_type": "code",
   "execution_count": 34,
   "id": "6dfdf076",
   "metadata": {},
   "outputs": [
    {
     "data": {
      "text/plain": [
       "tuple"
      ]
     },
     "execution_count": 34,
     "metadata": {},
     "output_type": "execute_result"
    }
   ],
   "source": [
    "type(T)"
   ]
  },
  {
   "cell_type": "code",
   "execution_count": 36,
   "id": "4bdbdde9",
   "metadata": {},
   "outputs": [
    {
     "data": {
      "text/plain": [
       "{'a': 1, 'b': 2, 'c': 3}"
      ]
     },
     "execution_count": 36,
     "metadata": {},
     "output_type": "execute_result"
    }
   ],
   "source": [
    "D = {\"a\":1,\n",
    "    \"b\":2,\n",
    "    \"c\":3}\n",
    "\n",
    "D"
   ]
  },
  {
   "cell_type": "code",
   "execution_count": 37,
   "id": "a7cbbe41",
   "metadata": {
    "scrolled": true
   },
   "outputs": [
    {
     "data": {
      "text/plain": [
       "dict"
      ]
     },
     "execution_count": 37,
     "metadata": {},
     "output_type": "execute_result"
    }
   ],
   "source": [
    "type(D)"
   ]
  },
  {
   "cell_type": "code",
   "execution_count": 54,
   "id": "08bca266",
   "metadata": {},
   "outputs": [
    {
     "data": {
      "text/plain": [
       "1"
      ]
     },
     "execution_count": 54,
     "metadata": {},
     "output_type": "execute_result"
    }
   ],
   "source": [
    "D[\"a\"]"
   ]
  },
  {
   "cell_type": "markdown",
   "id": "1becb9b9",
   "metadata": {},
   "source": [
    "### Sorting etc\n"
   ]
  },
  {
   "cell_type": "code",
   "execution_count": 38,
   "id": "3b439cc0",
   "metadata": {},
   "outputs": [],
   "source": [
    "L2 = [22,33,444,555,\"a\",\"b\",\"c\",[11,22,33],print]"
   ]
  },
  {
   "cell_type": "code",
   "execution_count": 39,
   "id": "41f07b78",
   "metadata": {},
   "outputs": [
    {
     "data": {
      "text/plain": [
       "22"
      ]
     },
     "execution_count": 39,
     "metadata": {},
     "output_type": "execute_result"
    }
   ],
   "source": [
    "L2[7][1] # Find the list first then treat it as a single listb"
   ]
  },
  {
   "cell_type": "code",
   "execution_count": 43,
   "id": "f419d315",
   "metadata": {},
   "outputs": [
    {
     "data": {
      "text/plain": [
       "22"
      ]
     },
     "execution_count": 43,
     "metadata": {},
     "output_type": "execute_result"
    }
   ],
   "source": [
    "L2[-2][1]"
   ]
  },
  {
   "cell_type": "code",
   "execution_count": 47,
   "id": "2a0138d7",
   "metadata": {},
   "outputs": [],
   "source": [
    "L3 = [322,334,56,0.-3,-123,34,56]"
   ]
  },
  {
   "cell_type": "code",
   "execution_count": 50,
   "id": "802c86b7",
   "metadata": {},
   "outputs": [
    {
     "data": {
      "text/plain": [
       "[334, 322, 56, 56, 34, -3.0, -123]"
      ]
     },
     "execution_count": 50,
     "metadata": {},
     "output_type": "execute_result"
    }
   ],
   "source": [
    "L3.sort(reverse=True)\n",
    "L3"
   ]
  },
  {
   "cell_type": "code",
   "execution_count": 53,
   "id": "2d82ee8f",
   "metadata": {},
   "outputs": [
    {
     "data": {
      "text/plain": [
       "[334, 322, 56, 56, 34, -3.0, -123, 99, 99]"
      ]
     },
     "execution_count": 53,
     "metadata": {},
     "output_type": "execute_result"
    }
   ],
   "source": [
    "L3.append(99)\n",
    "L3"
   ]
  },
  {
   "cell_type": "code",
   "execution_count": 56,
   "id": "93c8113e",
   "metadata": {},
   "outputs": [
    {
     "data": {
      "text/plain": [
       "['a',\n",
       " 'b',\n",
       " 'c',\n",
       " 'd',\n",
       " 'e',\n",
       " 'g',\n",
       " 'h',\n",
       " 'i',\n",
       " 'j',\n",
       " 'k',\n",
       " 'l',\n",
       " 'm',\n",
       " 'n',\n",
       " 'o',\n",
       " 'p',\n",
       " 'q',\n",
       " 'r',\n",
       " 's']"
      ]
     },
     "execution_count": 56,
     "metadata": {},
     "output_type": "execute_result"
    }
   ],
   "source": [
    "my_list = list(\"abcdeghijklmnopqrs\")\n",
    "my_list"
   ]
  },
  {
   "cell_type": "code",
   "execution_count": 57,
   "id": "c7298e12",
   "metadata": {},
   "outputs": [
    {
     "name": "stdout",
     "output_type": "stream",
     "text": [
      "looping\n",
      "a\n",
      "looping\n",
      "b\n",
      "looping\n",
      "c\n",
      "looping\n",
      "d\n",
      "looping\n",
      "e\n",
      "looping\n",
      "g\n",
      "looping\n",
      "h\n",
      "looping\n",
      "i\n",
      "looping\n",
      "j\n",
      "looping\n",
      "k\n",
      "looping\n",
      "l\n",
      "looping\n",
      "m\n",
      "looping\n",
      "n\n",
      "looping\n",
      "o\n",
      "looping\n",
      "p\n",
      "looping\n",
      "q\n",
      "looping\n",
      "r\n",
      "looping\n",
      "s\n",
      "loop has ended\n"
     ]
    }
   ],
   "source": [
    "for x in my_list:\n",
    "    print(\"looping\")\n",
    "    print(x)\n",
    "print(\"loop has ended\")"
   ]
  },
  {
   "cell_type": "code",
   "execution_count": 65,
   "id": "207fa4ce",
   "metadata": {},
   "outputs": [
    {
     "name": "stdout",
     "output_type": "stream",
     "text": [
      "looping\n",
      "A\n",
      "looping\n",
      "B\n",
      "looping\n",
      "C\n",
      "looping\n",
      "D\n",
      "looping\n",
      "E\n",
      "looping\n",
      "G\n",
      "looping\n",
      "H\n",
      "looping\n",
      "I\n",
      "looping\n",
      "J\n",
      "looping\n",
      "K\n",
      "looping\n",
      "L\n",
      "looping\n",
      "M\n",
      "looping\n",
      "N\n",
      "looping\n",
      "O\n",
      "looping\n",
      "P\n",
      "looping\n",
      "Q\n",
      "looping\n",
      "R\n",
      "looping\n",
      "S\n",
      "loop has ended\n",
      "18\n"
     ]
    }
   ],
   "source": [
    "count = 0\n",
    "\n",
    "for x in my_list:\n",
    "    print(\"looping\")\n",
    "    print(x.upper())\n",
    "    count += 1    \n",
    "print(\"loop has ended\")\n",
    "print(count)"
   ]
  },
  {
   "cell_type": "code",
   "execution_count": 64,
   "id": "f3d6f05c",
   "metadata": {},
   "outputs": [
    {
     "data": {
      "text/plain": [
       "18"
      ]
     },
     "execution_count": 64,
     "metadata": {},
     "output_type": "execute_result"
    }
   ],
   "source": [
    "len(my_list)"
   ]
  },
  {
   "cell_type": "markdown",
   "id": "dc8b5e76",
   "metadata": {},
   "source": [
    "## Loop through Dictionary"
   ]
  },
  {
   "cell_type": "code",
   "execution_count": 73,
   "id": "dbb8642d",
   "metadata": {},
   "outputs": [
    {
     "data": {
      "text/plain": [
       "{'a': 1, 'b': 2, 'c': 3, 'd': 'string'}"
      ]
     },
     "execution_count": 73,
     "metadata": {},
     "output_type": "execute_result"
    }
   ],
   "source": [
    "my_dict = {\"a\":1,\n",
    "    \"b\":2,\n",
    "    \"c\":3, \"d\":\"string\"}\n",
    "\n",
    "my_dict"
   ]
  },
  {
   "cell_type": "raw",
   "id": "bc349587",
   "metadata": {},
   "source": [
    "for x in my_dict.items():\n",
    "    print(x) # can unpack dictionary into tuples"
   ]
  },
  {
   "cell_type": "code",
   "execution_count": 76,
   "id": "587c68c3",
   "metadata": {
    "scrolled": true
   },
   "outputs": [
    {
     "name": "stdout",
     "output_type": "stream",
     "text": [
      "1\n",
      "<class 'int'>\n",
      "it is an integer\n",
      "\n",
      "2\n",
      "<class 'int'>\n",
      "it is an integer\n",
      "\n",
      "3\n",
      "<class 'int'>\n",
      "it is an integer\n",
      "\n",
      "string\n",
      "<class 'str'>\n",
      "not an integer\n",
      "\n"
     ]
    },
    {
     "data": {
      "text/plain": [
       "[1, 2, 3]"
      ]
     },
     "execution_count": 76,
     "metadata": {},
     "output_type": "execute_result"
    }
   ],
   "source": [
    "results = []\n",
    "\n",
    "for x in my_dict.values():\n",
    "    print(x)\n",
    "    print(type(x))\n",
    "    if type(x) == int:\n",
    "        print(\"it is an integer\")\n",
    "        results.append(x)\n",
    "    else:\n",
    "        print(\"not an integer\")\n",
    "    print()\n",
    "results\n"
   ]
  },
  {
   "cell_type": "code",
   "execution_count": null,
   "id": "d2277ef2",
   "metadata": {},
   "outputs": [],
   "source": [
    "# ctrl +/ commenting\n",
    "#  TAB = indent\n",
    "# SHIFT + TAB = un indent\n",
    "\n",
    "#CTRL+ENTER or SHIFT + ENTER to run (shift = moves cursor to next cell)"
   ]
  },
  {
   "cell_type": "markdown",
   "id": "4532b3fa",
   "metadata": {},
   "source": [
    "### Logical Conditions"
   ]
  },
  {
   "cell_type": "code",
   "execution_count": 77,
   "id": "a17cea4e",
   "metadata": {},
   "outputs": [
    {
     "name": "stdout",
     "output_type": "stream",
     "text": [
      "not equal\n"
     ]
    }
   ],
   "source": [
    "if 3 == 4:\n",
    "    print (\"3 equal to 4\")\n",
    "else:\n",
    "    print(\"not equal\")"
   ]
  },
  {
   "cell_type": "code",
   "execution_count": 78,
   "id": "6ffa5539",
   "metadata": {},
   "outputs": [
    {
     "name": "stdout",
     "output_type": "stream",
     "text": [
      "conditions not met\n"
     ]
    }
   ],
   "source": [
    "if 3>4:\n",
    "    print(\"3>4\")\n",
    "elif 3 > 5:\n",
    "    print(\"3>5\")\n",
    "else:\n",
    "    print(\"conditions not met\")"
   ]
  }
 ],
 "metadata": {
  "kernelspec": {
   "display_name": "Python 3 (ipykernel)",
   "language": "python",
   "name": "python3"
  },
  "language_info": {
   "codemirror_mode": {
    "name": "ipython",
    "version": 3
   },
   "file_extension": ".py",
   "mimetype": "text/x-python",
   "name": "python",
   "nbconvert_exporter": "python",
   "pygments_lexer": "ipython3",
   "version": "3.9.12"
  }
 },
 "nbformat": 4,
 "nbformat_minor": 5
}
